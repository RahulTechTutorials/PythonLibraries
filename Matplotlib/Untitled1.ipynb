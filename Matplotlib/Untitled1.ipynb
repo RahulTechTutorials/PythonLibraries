{
 "cells": [
  {
   "cell_type": "code",
   "execution_count": 47,
   "metadata": {},
   "outputs": [
    {
     "name": "stdout",
     "output_type": "stream",
     "text": [
      "Enter the sum to be found5\n",
      "[(1, 4), (3, 2), (2, 3)]\n"
     ]
    }
   ],
   "source": [
    "\n",
    "def sumup(k,lst):\n",
    "    length = len(lst)\n",
    "    output = []\n",
    "    for i in range(length-1):\n",
    "        for j in range(i+1,length):\n",
    "            if lst[i]+lst[j] ==k:\n",
    "                output.append((lst[i],lst[j]))\n",
    "            else :\n",
    "                continue\n",
    "    return output\n",
    "\n",
    "if __name__ == '__main__':\n",
    "    k = int(input('Enter the sum to be found'))\n",
    "    lst = [1,3,2,5,46,6,7,4,6,3,9,5]\n",
    "    out = sumup(k,lst)\n",
    "    print(out)\n",
    "            \n",
    "        "
   ]
  }
 ],
 "metadata": {
  "kernelspec": {
   "display_name": "Python 3",
   "language": "python",
   "name": "python3"
  },
  "language_info": {
   "codemirror_mode": {
    "name": "ipython",
    "version": 3
   },
   "file_extension": ".py",
   "mimetype": "text/x-python",
   "name": "python",
   "nbconvert_exporter": "python",
   "pygments_lexer": "ipython3",
   "version": "3.6.8"
  }
 },
 "nbformat": 4,
 "nbformat_minor": 2
}
